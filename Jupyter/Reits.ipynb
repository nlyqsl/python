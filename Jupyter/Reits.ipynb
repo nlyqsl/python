{
 "cells": [
  {
   "cell_type": "code",
   "execution_count": null,
   "metadata": {},
   "outputs": [
    {
     "name": "stdout",
     "output_type": "stream",
     "text": [
      "Done\n"
     ]
    },
    {
     "ename": "",
     "evalue": "",
     "output_type": "error",
     "traceback": [
      "\u001b[1;31m在当前单元格或上一个单元格中执行代码时 Kernel 崩溃。\n",
      "\u001b[1;31m请查看单元格中的代码，以确定故障的可能原因。\n",
      "\u001b[1;31m单击<a href='https://aka.ms/vscodeJupyterKernelCrash'>此处</a>了解详细信息。\n",
      "\u001b[1;31m有关更多详细信息，请查看 Jupyter <a href='command:jupyter.viewOutput'>log</a>。"
     ]
    }
   ],
   "source": [
    "import pandas as pd\n",
    "import numpy as np\n",
    "import akshare as ak\n",
    "\n",
    "#1 获取reits代码\n",
    "def get_reits_code():\n",
    "    df = ak.fund_name_em()\n",
    "    df = df[df['基金类型'] == 'Reits']\n",
    "    return df['基金代码'].tolist()\n",
    "\n",
    "#2 获取单个REITS的分红送股\n",
    "def get_fenhong(code):\n",
    "    url = f'https://fundf10.eastmoney.com/fhsp_{code}.html'\n",
    "    resp = pd.read_html(url)\n",
    "    df1 = resp[1]\n",
    "    if not df1.empty:\n",
    "        df1['代码'] = code        \n",
    "        df1['每份分红'] = df1['每份分红'].str.extract(r'([-+]?\\d*\\.?\\d+)').astype(float)\n",
    "        df1 = df1[['代码', '年份', '权益登记日', '除息日','分红发放日', '每份分红']] \n",
    "        df1['权益登记日'] = pd.to_datetime(df1['权益登记日'],errors='coerce',format='%Y-%m-%d')\n",
    "        df1['除息日'] = pd.to_datetime(df1['除息日'],errors='coerce',format='%Y-%m-%d')\n",
    "        df1['分红发放日'] = pd.to_datetime(df1['分红发放日'],errors='coerce',format='%Y-%m-%d')\n",
    "    return df1\n",
    "\n",
    "#3 获取所有REITS的分红送股\n",
    "def get_all_fenhong():\n",
    "    codes = get_reits_code()\n",
    "    df = pd.DataFrame()\n",
    "    for code in codes:\n",
    "        df1 = get_fenhong(code)\n",
    "        if not df1.empty:      \n",
    "            df = pd.concat([df, df1])        \n",
    "    return df\n",
    "\n",
    "# 获取所有REITS的实时行情\n",
    "def get_all_reits_price():\n",
    "    df = ak.reits_realtime_em()\n",
    "    return df\n",
    "\n",
    "if __name__ == '__main__':\n",
    "    df1 = get_all_reits_price()\n",
    "    df2 = get_all_fenhong()\n",
    "    with pd.ExcelWriter('output.xlsx',engine='openpyxl') as writer:\n",
    "        df1.to_excel(writer, sheet_name='最新行情',index=False)\n",
    "        df2.to_excel(writer, sheet_name='分红情况',index=False)\n",
    "    print('Done')\n"
   ]
  }
 ],
 "metadata": {
  "kernelspec": {
   "display_name": "base",
   "language": "python",
   "name": "python3"
  },
  "language_info": {
   "codemirror_mode": {
    "name": "ipython",
    "version": 3
   },
   "file_extension": ".py",
   "mimetype": "text/x-python",
   "name": "python",
   "nbconvert_exporter": "python",
   "pygments_lexer": "ipython3",
   "version": "3.12.7"
  }
 },
 "nbformat": 4,
 "nbformat_minor": 2
}
